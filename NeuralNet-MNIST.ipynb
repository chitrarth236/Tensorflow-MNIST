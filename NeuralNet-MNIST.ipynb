{
 "cells": [
  {
   "cell_type": "code",
   "execution_count": 1,
   "metadata": {},
   "outputs": [
    {
     "name": "stdout",
     "output_type": "stream",
     "text": [
      "Successfully downloaded train-images-idx3-ubyte.gz 9912422 bytes.\n",
      "Extracting MNIST_data/train-images-idx3-ubyte.gz\n",
      "Successfully downloaded train-labels-idx1-ubyte.gz 28881 bytes.\n",
      "Extracting MNIST_data/train-labels-idx1-ubyte.gz\n",
      "Successfully downloaded t10k-images-idx3-ubyte.gz 1648877 bytes.\n",
      "Extracting MNIST_data/t10k-images-idx3-ubyte.gz\n",
      "Successfully downloaded t10k-labels-idx1-ubyte.gz 4542 bytes.\n",
      "Extracting MNIST_data/t10k-labels-idx1-ubyte.gz\n"
     ]
    }
   ],
   "source": [
    "import tensorflow as tf\n",
    "import matplotlib.pyplot as plt\n",
    "import numpy as np\n",
    "import pandas as pd\n",
    "from tensorflow.examples.tutorials.mnist import input_data\n",
    "mnist = input_data.read_data_sets(\"MNIST_data/\", one_hot=True)\n",
    "%matplotlib inline"
   ]
  },
  {
   "cell_type": "code",
   "execution_count": 2,
   "metadata": {},
   "outputs": [],
   "source": [
    "#Extract MNIST data\n",
    "x_train = mnist.train.images\n",
    "y_train = mnist.train.labels\n",
    "\n",
    "X = tf.placeholder(tf.float32,[None,784])\n",
    "Y = tf.placeholder(tf.float32,[None,10])\n",
    "\n",
    "costs = []"
   ]
  },
  {
   "cell_type": "code",
   "execution_count": 3,
   "metadata": {},
   "outputs": [],
   "source": [
    "#hyperparameters\n",
    "\n",
    "learning_rate = 0.1\n",
    "training_epoches = 50\n",
    "batch_size = 1000\n",
    "total_batch = int(mnist.train.num_examples/batch_size)\n",
    "keep_prob = tf.placeholder(tf.float32)\n",
    "\n",
    "W1 = tf.Variable(tf.random_normal([784,16]))\n",
    "b1 = tf.Variable(tf.random_normal([16]))\n",
    "\n",
    "W2 = tf.Variable(tf.random_normal([16,14]))\n",
    "b2 = tf.Variable(tf.random_normal([14]))\n",
    "\n",
    "W3 = tf.Variable(tf.random_normal([14,10]))\n",
    "b3 = tf.Variable(tf.random_normal([10]))"
   ]
  },
  {
   "cell_type": "code",
   "execution_count": 4,
   "metadata": {},
   "outputs": [],
   "source": [
    "#Forword propagation\n",
    "A1 = tf.nn.sigmoid(tf.matmul(X,W1) + b1)\n",
    "A2 = tf.nn.sigmoid(tf.matmul(A1,W2) + b2)\n",
    "Y_ = tf.nn.softmax(tf.matmul(A2,W3) + b3) \n",
    "\n",
    "#Cost function\n",
    "cost = tf.reduce_mean(-tf.reduce_sum(Y*tf.log(Y_),reduction_indices=1))\n",
    "\n",
    "#Adam Optimizer to minimize the cost\n",
    "optimizer = tf.train.AdamOptimizer(0.01).minimize(cost)\n",
    "\n",
    "#Initializing the variables\n",
    "init = tf.global_variables_initializer()"
   ]
  },
  {
   "cell_type": "code",
   "execution_count": 5,
   "metadata": {},
   "outputs": [
    {
     "name": "stdout",
     "output_type": "stream",
     "text": [
      "cost after epoch 1 : 1.282082\n",
      "cost after epoch 2 : 0.727150\n",
      "cost after epoch 3 : 0.527411\n",
      "cost after epoch 4 : 0.441671\n",
      "cost after epoch 5 : 0.400298\n",
      "cost after epoch 6 : 0.329987\n",
      "cost after epoch 7 : 0.365042\n",
      "cost after epoch 8 : 0.279728\n",
      "cost after epoch 9 : 0.263371\n",
      "cost after epoch 10 : 0.264814\n",
      "cost after epoch 11 : 0.248346\n",
      "cost after epoch 12 : 0.254398\n",
      "cost after epoch 13 : 0.240606\n",
      "cost after epoch 14 : 0.250922\n",
      "cost after epoch 15 : 0.219647\n",
      "cost after epoch 16 : 0.219696\n",
      "cost after epoch 17 : 0.195738\n",
      "cost after epoch 18 : 0.220066\n",
      "cost after epoch 19 : 0.182800\n",
      "cost after epoch 20 : 0.217637\n",
      "cost after epoch 21 : 0.182089\n",
      "cost after epoch 22 : 0.173198\n",
      "cost after epoch 23 : 0.157127\n",
      "cost after epoch 24 : 0.230446\n",
      "cost after epoch 25 : 0.166989\n",
      "cost after epoch 26 : 0.188525\n",
      "cost after epoch 27 : 0.179007\n",
      "cost after epoch 28 : 0.208122\n",
      "cost after epoch 29 : 0.173501\n",
      "cost after epoch 30 : 0.191562\n",
      "cost after epoch 31 : 0.164321\n",
      "cost after epoch 32 : 0.172649\n",
      "cost after epoch 33 : 0.165553\n",
      "cost after epoch 34 : 0.163933\n",
      "cost after epoch 35 : 0.156533\n",
      "cost after epoch 36 : 0.153375\n",
      "cost after epoch 37 : 0.135086\n",
      "cost after epoch 38 : 0.117852\n",
      "cost after epoch 39 : 0.143873\n",
      "cost after epoch 40 : 0.149139\n",
      "cost after epoch 41 : 0.173532\n",
      "cost after epoch 42 : 0.152811\n",
      "cost after epoch 43 : 0.113362\n",
      "cost after epoch 44 : 0.159939\n",
      "cost after epoch 45 : 0.115344\n",
      "cost after epoch 46 : 0.140909\n",
      "cost after epoch 47 : 0.121118\n",
      "cost after epoch 48 : 0.114978\n",
      "cost after epoch 49 : 0.144034\n",
      "cost after epoch 50 : 0.106684\n",
      "Accuracy: 0.9358\n"
     ]
    },
    {
     "data": {
      "image/png": "[encoded data removed]",
      "text/plain": [
       "<matplotlib.figure.Figure at 0x285e5a42e80>"
      ]
     },
     "metadata": {},
     "output_type": "display_data"
    }
   ],
   "source": [
    "#Launch the graph\n",
    "with tf.Session() as sess:\n",
    "    sess.run(init)\n",
    "    #Training session\n",
    "    for epoches in range(training_epoches):\n",
    "        #Loop over all batches\n",
    "        for i in range(total_batch):\n",
    "            xs_batch,ys_batch = mnist.train.next_batch(batch_size)\n",
    "            sess.run(optimizer,feed_dict={X:xs_batch,Y:ys_batch})\n",
    "        print(\"cost after epoch %i : %f\"%(epoches+1,sess.run(cost,feed_dict={X:xs_batch,Y:ys_batch}))) \n",
    "        costs.append(sess.run(cost,feed_dict={X:xs_batch,Y:ys_batch}))\n",
    "    \n",
    "    #accuracy calculation\n",
    "    correct_prediction = tf.equal(tf.argmax(Y_, 1), tf.argmax(Y, 1))\n",
    "    accuracy = tf.reduce_mean(tf.cast(correct_prediction, tf.float32))\n",
    "    print(\"Accuracy:\", accuracy.eval({X: mnist.test.images, Y: mnist.test.labels}))\n",
    "    \n",
    "    #plotting cost\n",
    "    plt.plot(costs)\n",
    "    plt.xlabel(\"iterations\")\n",
    "    plt.ylabel(\"cost\")"
   ]
  }
 ],
 "metadata": {
  "kernelspec": {
   "display_name": "Python 3",
   "language": "python",
   "name": "python3"
  },
  "language_info": {
   "codemirror_mode": {
    "name": "ipython",
    "version": 3
   },
   "file_extension": ".py",
   "mimetype": "text/x-python",
   "name": "python",
   "nbconvert_exporter": "python",
   "pygments_lexer": "ipython3",
   "version": "3.6.0"
  }
 },
 "nbformat": 4,
 "nbformat_minor": 2
}
